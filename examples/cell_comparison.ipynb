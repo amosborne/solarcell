{
 "cells": [
  {
   "cell_type": "markdown",
   "id": "2722077c-c484-4e34-82e4-753f05ea94f2",
   "metadata": {},
   "source": [
    "This is the source code for the plots contained in the blog post, \"[Design Considerations for a Spacecraft Solar Array](https://www.osborneee.com/spacecraft-solar-array/).\""
   ]
  },
  {
   "cell_type": "code",
   "execution_count": 1,
   "id": "8eda7f62-cd6c-4fa6-a586-4d0b1ecfdb79",
   "metadata": {},
   "outputs": [],
   "source": [
    "from collections import namedtuple\n",
    "\n",
    "import numpy as np\n",
    "from matplotlib import pyplot as plt\n",
    "from solarcell import solarcell\n",
    "from worstcase import unit"
   ]
  },
  {
   "cell_type": "markdown",
   "id": "b4ab0680-40a5-4c5f-bdc5-41207295086e",
   "metadata": {},
   "source": [
    "# Cell Parameter Definitions"
   ]
  },
  {
   "cell_type": "code",
   "execution_count": 2,
   "id": "8bc69c05-7980-4d32-a94c-1dc1e5d2b3f6",
   "metadata": {},
   "outputs": [],
   "source": [
    "# units, note the currents are per area: V, mA/cm2, mV/C, uA/cm2/C\n",
    "celltype = namedtuple(\"celltype\", \"name voc jsc vmp jmp dvoc djsc dvmp djmp\")\n",
    "\n",
    "# define triple-junction solar cells\n",
    "spectrolab = celltype(\"Spectrolab XTJ\", 2.72, 18.0, 2.41, 17.5, -5.6, 10.0, -6.3, 5.0)\n",
    "azurspace = celltype(\"Azur Space 3G30A\", 2.69, 17.2, 2.41, 16.7, -6.2, 11.9, -6.7, 8.0)\n",
    "solaero = celltype(\"Solaero ZTJ\", 2.73, 17.4, 2.41, 16.5, -6.3, 11.7, -6.7, 9.1)"
   ]
  },
  {
   "cell_type": "code",
   "execution_count": 3,
   "id": "481522cd-ce40-4f14-9ef3-193c0b5ebd13",
   "metadata": {},
   "outputs": [],
   "source": [
    "def si(name, nseries, nparallel, area, voc, isc, vmp, imp, dvoc, disc, dpmp):\n",
    "    # function to derive silicon cell paramters from a panel datasheet\n",
    "\n",
    "    area = area * 0.90 / (nseries * nparallel)  # account for solar panel packing factor\n",
    "    jsc = isc / nparallel / area / 0.72  # short circuit current at AM0\n",
    "    jmp = imp / nparallel / area / 0.72  # max power current at AM0\n",
    "    voc = voc / nseries  # open circuit voltage\n",
    "    vmp = vmp / nseries  # max power voltage\n",
    "\n",
    "    dvoc = (voc * dvoc).to(\"mV/K\")\n",
    "    djsc = (jsc * disc).to(\"uA/cm^2/K\")\n",
    "    dpmp = (vmp * jmp * dpmp).to(\"uW/cm^2/K\")\n",
    "    djmp = djsc  # rough assumption\n",
    "    dvmp = ((dpmp - vmp * djmp) / jmp).to(\"mV/K\")\n",
    "\n",
    "    dt = (28 - 25) * unit.K  # adjust to space standard test temperature\n",
    "    voc = (voc + dvoc * dt).to(\"V\")\n",
    "    jsc = (jsc + djsc * dt).to(\"mA/cm^2\")\n",
    "    vmp = (vmp + dvmp * dt).to(\"V\")\n",
    "    jmp = (jmp + djmp * dt).to(\"mA/cm^2\")\n",
    "\n",
    "    return celltype(name, voc.m, jsc.m, vmp.m, jmp.m, dvoc.m, djsc.m, dvmp.m, djmp.m)"
   ]
  },
  {
   "cell_type": "code",
   "execution_count": 4,
   "id": "a25ab1ed-af62-4ca4-a69f-3dd76cd6f0b2",
   "metadata": {},
   "outputs": [],
   "source": [
    "# define monocrystalline-silicon solar cells\n",
    "bluebird = si(\n",
    "    name=\"Bluebird Mono PERC\",\n",
    "    nseries=72,\n",
    "    nparallel=1,\n",
    "    area=1985 * unit.mm * 1000 * unit.mm,\n",
    "    voc=50.0 * unit.V,\n",
    "    isc=10.0 * unit.A,\n",
    "    vmp=40.7 * unit.V,\n",
    "    imp=9.70 * unit.A,\n",
    "    dvoc=-0.300e-2 / unit.K,\n",
    "    disc=+0.060e-2 / unit.K,\n",
    "    dpmp=-0.370e-2 / unit.K,\n",
    ")\n",
    "solartech = si(\n",
    "    name=\"SolarTech EPIQ Black\",\n",
    "    nseries=60,\n",
    "    nparallel=1,\n",
    "    area=997 * unit.mm * 1663 * unit.mm,\n",
    "    voc=40.1 * unit.V,\n",
    "    isc=9.50 * unit.A,\n",
    "    vmp=33.6 * unit.V,\n",
    "    imp=8.90 * unit.A,\n",
    "    dvoc=-0.280e-2 / unit.K,\n",
    "    disc=+0.043e-2 / unit.K,\n",
    "    dpmp=-0.366e-2 / unit.K,\n",
    ")\n",
    "jasolar = si(\n",
    "    name=\"JA Solar DeepBlue\",\n",
    "    nseries=54,\n",
    "    nparallel=1,\n",
    "    area=1722 * unit.mm * 1134 * unit.mm,\n",
    "    voc=36.6 * unit.V,\n",
    "    isc=13.4 * unit.A,\n",
    "    vmp=30.3 * unit.V,\n",
    "    imp=12.6 * unit.A,\n",
    "    dvoc=-0.275e-2 / unit.K,\n",
    "    disc=+0.045e-2 / unit.K,\n",
    "    dpmp=-0.350e-2 / unit.K,\n",
    ")"
   ]
  },
  {
   "cell_type": "code",
   "execution_count": 5,
   "id": "9e48f6de-85c1-47b3-aaf4-8a903f57ab2f",
   "metadata": {},
   "outputs": [
    {
     "name": "stdout",
     "output_type": "stream",
     "text": [
      "Azur Space 3G30A         29.5%    -700ppm/C\n",
      "Solaero ZTJ              29.1%    -680ppm/C\n",
      "Spectrolab XTJ           30.9%    -730ppm/C\n",
      "SolarTech EPIQ Black     20.2%    -770ppm/C\n",
      "Bluebird Mono PERC       22.2%    -870ppm/C\n",
      "JA Solar DeepBlue        21.9%    -800ppm/C\n"
     ]
    }
   ],
   "source": [
    "# for all cells, compute the efficiency and temperature coefficient\n",
    "cells = (azurspace, solaero, spectrolab, solartech, bluebird, jasolar)\n",
    "intensity = 1365  # W/m2\n",
    "dT = 60  # affects results only a little\n",
    "\n",
    "for cell in cells:\n",
    "    pmp = cell.vmp * cell.jmp  # mW\n",
    "    pin = intensity / 100**2\n",
    "    eff = pmp / pin / 1000\n",
    "\n",
    "    x = cell.vmp * cell.djmp  # uW/C\n",
    "    y = cell.dvmp * cell.jmp  # uW/C\n",
    "    z = cell.dvmp * cell.djmp * dT  # nW/C\n",
    "    dpmp = (x + y + z / 1000) * 1e-3  # mW/C\n",
    "    deff = dpmp / pin / 1000\n",
    "\n",
    "    result = (cell.name, eff * 100, round(deff * 1e6, -1))\n",
    "    print(\"{:24s} {:.1f}%    {:.0f}ppm/C\".format(*result))"
   ]
  },
  {
   "cell_type": "markdown",
   "id": "7fe27753-67cc-4472-9716-2756b3b467a2",
   "metadata": {},
   "source": [
    "# Curve Fitting"
   ]
  },
  {
   "cell_type": "code",
   "execution_count": 6,
   "id": "18ef3361-b55f-4461-ab05-555dc5a512d7",
   "metadata": {},
   "outputs": [],
   "source": [
    "def celltype2solarcell(type, area):\n",
    "    return solarcell(\n",
    "        isc=(type.jsc * area / 1e3, type.djsc * area / 1e6),\n",
    "        voc=(type.voc, type.dvoc / 1e3),\n",
    "        imp=(type.jmp * area / 1e3, type.djmp * area / 1e6),\n",
    "        vmp=(type.vmp, type.dvmp / 1e3),\n",
    "        area=area,\n",
    "        t=28,\n",
    "    )"
   ]
  },
  {
   "cell_type": "code",
   "execution_count": 7,
   "id": "657bdfa5-40e6-4318-9b1e-aa5dd0ac0861",
   "metadata": {},
   "outputs": [
    {
     "name": "stdout",
     "output_type": "stream",
     "text": [
      "(-0.4845647252521095, -0.3832877204350717)\n",
      "6.729135180520571 0.004030226700251889 0.6881944444444444 -0.0020833333333333333 6.527623845507977 0.004030226700251889 0.5579542253722795 -0.002441184135166094\n"
     ]
    }
   ],
   "source": [
    "c = celltype2solarcell(bluebird, 120)\n",
    "print(c.isc, c.disc, c.voc, c.dvoc, c.imp, c.dimp, c.vmp, c.dvmp)"
   ]
  },
  {
   "cell_type": "code",
   "execution_count": 8,
   "id": "7a80b09b-3ef5-4232-a4df-25eb08c23bbb",
   "metadata": {},
   "outputs": [
    {
     "name": "stdout",
     "output_type": "stream",
     "text": [
      "(-0.48502994011976047, -0.4419087136929461)\n",
      "Isc  = 0.5160000 A, Voc  = 2.6900000 V\n",
      "Imp  = 0.5010000 A, Vmp  = 2.4100000 V, Pmp  = 1.2074100 W\n",
      "Iunc = 39437.8967652 A, Vunc = 5415783.2965448 V, Punc = 2714971.6081740 W\n"
     ]
    },
    {
     "data": {
      "image/png": "[encoded data removed]",
      "text/plain": [
       "<Figure size 800x600 with 2 Axes>"
      ]
     },
     "metadata": {},
     "output_type": "display_data"
    }
   ],
   "source": [
    "cell = celltype2solarcell(type=azurspace, area=30)\n",
    "\n",
    "print(cell)\n",
    "\n",
    "v = np.linspace(0, cell.voc, 1000)\n",
    "\n",
    "fig, ax = plt.subplots(nrows=2, ncols=1, sharex=True, figsize=(8, 6))\n",
    "ax[0].plot(v, cell.iv(v))\n",
    "ax[1].plot(v, cell.pv(v))\n",
    "ax[0].set_ylabel(\"Current (A)\")\n",
    "ax[1].set_ylabel(\"Power (W)\")\n",
    "ax[1].set_xlabel(\"Voltage (V)\")\n",
    "ax[0].grid()\n",
    "ax[1].grid()\n",
    "ax[0].set_xlim((0, 3))\n",
    "ax[0].set_ylim((0, 0.6))\n",
    "ax[1].set_ylim((0, 1.4))\n",
    "ax[0].set_title(\"Azur Space 3G30A at Standard Test Conditions (28C, AM0)\")\n",
    "plt.show()"
   ]
  },
  {
   "cell_type": "code",
   "execution_count": null,
   "id": "6bda6a43-23db-4faa-a301-0ede865ae1aa",
   "metadata": {},
   "outputs": [],
   "source": [
    "fig, ax = plt.subplots(nrows=2, ncols=3, sharey=True, figsize=(12, 12))\n",
    "\n",
    "for type in [spectrolab, azurspace, solaero]:\n",
    "    sc = celltype2solarcell(type, area=30)\n",
    "    for i, temp in enumerate([-60, 28, 80]):\n",
    "        print(\"{:s} @ {:.0f}C\".format(type.name, temp))\n",
    "        array = sc.array(t=np.full((24, 12), temp), g=np.ones((24, 12)))\n",
    "        v = np.linspace(0, array.voc, 1000)\n",
    "        ax[0, i].plot(v, array.iv(v))\n",
    "        print(array)\n",
    "        print()\n",
    "\n",
    "ax[0, 0].set_title(\"24s12p | 30cm2 | Temp = -60C\")\n",
    "ax[0, 0].set_xlim([60, 90]), ax[0, 0].grid()\n",
    "ax[0, 1].set_xlim([45, 75]), ax[0, 1].grid(), ax[0, 1].set_title(\"28C\")\n",
    "ax[0, 2].set_xlim([30, 60]), ax[0, 2].grid(), ax[0, 2].set_title(\"80C\")\n",
    "ax[0, 0].legend([\"Spectrolab XTJ\", \"Azur 3G30A\", \"Solaero ZTJ\"])\n",
    "ax[0, 0].set_ylabel(\"Current (A)\")\n",
    "\n",
    "for type in [solartech, bluebird, jasolar]:\n",
    "    sc = celltype2solarcell(type, area=120)\n",
    "    for i, temp in enumerate([-60, 28, 80]):\n",
    "        print(\"{:s} @ {:.0f}C\".format(type.name, temp))\n",
    "        array = sc.array(t=np.full((96, 1), temp), g=np.ones((96, 1)))\n",
    "        v = np.linspace(0, array.voc, 1000)\n",
    "        ax[1, i].plot(v, array.iv(v))\n",
    "        print(array)\n",
    "        print()\n",
    "\n",
    "ax[1, 0].set_title(\"96s1p | 120cm2 | Temp = -60C\")\n",
    "ax[1, 0].set_xlim([60, 90]), ax[1, 0].grid()\n",
    "ax[1, 1].set_xlim([45, 75]), ax[1, 1].grid(), ax[1, 1].set_title(\"28C\")\n",
    "ax[1, 2].set_xlim([30, 60]), ax[1, 2].grid(), ax[1, 2].set_title(\"80C\")\n",
    "ax[1, 0].legend([\"SolarTech Mono-PERC\", \"Bluebird Mono-PERC\", \"JASolar Mono-PERC\"])\n",
    "ax[1, 0].set_ylabel(\"Current (A)\")\n",
    "ax[1, 0].set_xlabel(\"Voltage (V)\")\n",
    "\n",
    "plt.ylim([0, 8])\n",
    "plt.show()"
   ]
  },
  {
   "cell_type": "code",
   "execution_count": null,
   "id": "8edafd2a-883b-47a6-95bf-afc3bfc5119b",
   "metadata": {},
   "outputs": [],
   "source": []
  }
 ],
 "metadata": {
  "kernelspec": {
   "display_name": "Python 3 (ipykernel)",
   "language": "python",
   "name": "python3"
  },
  "language_info": {
   "codemirror_mode": {
    "name": "ipython",
    "version": 3
   },
   "file_extension": ".py",
   "mimetype": "text/x-python",
   "name": "python",
   "nbconvert_exporter": "python",
   "pygments_lexer": "ipython3",
   "version": "3.11.0"
  }
 },
 "nbformat": 4,
 "nbformat_minor": 5
}
