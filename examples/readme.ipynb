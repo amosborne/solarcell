{
 "cells": [
  {
   "cell_type": "code",
   "execution_count": 1,
   "id": "4b67d605-ae3a-41f5-bb20-b826f0b9beae",
   "metadata": {},
   "outputs": [],
   "source": [
    "from warnings import warn\n",
    "\n",
    "import numpy\n",
    "from scipy import constants\n",
    "from scipy.optimize import least_squares, minimize, root_scalar"
   ]
  },
  {
   "cell_type": "code",
   "execution_count": 59,
   "id": "873d4c05-46d2-4187-8261-a3dcf8429d71",
   "metadata": {},
   "outputs": [],
   "source": [
    "class array:\n",
    "    def __init__(self, isc, voc, imp, vmp, t, ns, np):\n",
    "        assert isc[0] > imp[0] and isc[1] > imp[1], \"Isc must exceed Imp.\"\n",
    "        assert voc[0] > vmp[0] and voc[1] > vmp[1], \"Voc must exceed Vmp.\"\n",
    "        assert t > -273.15, \"Temperature must exceed absolute zero.\"\n",
    "        assert ns > 0, \"There must be atleast one cell per string.\"\n",
    "        assert np > 0, \"There must be atleast one string per array.\"\n",
    "        \n",
    "        self.isc = isc\n",
    "        self.voc = voc\n",
    "        self.imp = imp\n",
    "        self.vmp = vmp\n",
    "        self.t = t\n",
    "        self.ns = numpy.ceil(ns)\n",
    "        self.np = numpy.ceil(np)\n",
    "\n",
    "    def params(self, t, g):\n",
    "        assert t > -273.15, \"Temperature must exceed absolute zero.\"\n",
    "        assert g >= 0, \"Intensity must be non-negative.\"\n",
    "\n",
    "        # Compute the adjusted cell parameters.\n",
    "        dt = t - self.t\n",
    "        isc = (self.isc[0] + dt * self.isc[1]) * g\n",
    "        voc = self.voc[0] + dt * self.voc[1]\n",
    "        imp = (self.imp[0] + dt * self.imp[1]) * g\n",
    "        vmp = self.vmp[0] + dt * self.vmp[1]\n",
    "\n",
    "        return isc, voc, imp, vmp\n",
    "\n",
    "    def cell(self, t, g):\n",
    "        isc, voc, imp, vmp = self.params(t, g)\n",
    "        pmp = imp * vmp\n",
    "        q_kT = constants.e / (constants.k * (t + 273.15))\n",
    "\n",
    "        def x2eqn(x):\n",
    "            # Diode model is a logarithmic function, V=F(I).\n",
    "            i0, rs, n = x  # Parameters to be solved for numerically.\n",
    "            i0 = i0 * 1e-20  # Scale factor to assist solver.\n",
    "            q_nkT = q_kT / n\n",
    "            v = lambda i: numpy.log((isc - i) / i0 + 1) / q_nkT - i * rs\n",
    "            return v\n",
    "        \n",
    "        def x2params(x):\n",
    "            v = x2eqn(x)\n",
    "            \n",
    "            # Numerically invert the diode model to solve for Isc/Imp.\n",
    "            risc = root_scalar(\n",
    "                f=v,\n",
    "                x0=isc,\n",
    "                bracket=(isc * 0.98, isc),\n",
    "            )\n",
    "            rimp = minimize(\n",
    "                fun=lambda ximp: 1 / (ximp * v(ximp)),\n",
    "                x0=isc / 2,\n",
    "                bounds=[(0, isc * 0.99)],\n",
    "            )\n",
    "            assert risc.converged and rimp.success\n",
    "\n",
    "            # Return the cell parameters.\n",
    "            xisc = risc.root\n",
    "            xvoc = v(0)\n",
    "            ximp = rimp.x[0]\n",
    "            xvmp = v(ximp)\n",
    "            return xisc, xvoc, ximp, xvmp\n",
    "        \n",
    "        def minfun(x):\n",
    "            # The IV-curve is optimized againt Voc, Vmp, and Pmp.\n",
    "            _, xvoc, ximp, xvmp = x2params(x)\n",
    "            return voc - xvoc, vmp - xvmp, pmp - (ximp * xvmp)\n",
    "\n",
    "        result = least_squares(\n",
    "            fun=minfun,\n",
    "            x0=(1, 0.1, 2.5),\n",
    "            bounds=((1e-3, 0, 0.1), (1e3, 1, 10)),\n",
    "            xtol=None)\n",
    "        emsg = \"Curve fit failed for cell(t={:0.1f}, g={:0.2f}).\"\n",
    "        assert result.success and result.cost < 0.01, emsg.format(t, g)\n",
    "\n",
    "        xisc, xvoc, ximp, xvmp = x2params(result.x)\n",
    "\n",
    "        # Warn if the solution is a poor fit.\n",
    "        threshold = 0.02\n",
    "        wmsg = \"Curve fit {:s} error exceeds {:0.0f}%. target={:0.3f} solution={:0.3f}\"\n",
    "        if numpy.abs(1 - xisc/isc) > threshold:\n",
    "            warn(wmsg.format(\"Isc\", threshold * 100, isc, xisc))\n",
    "        if numpy.abs(1 - xvoc/voc) > threshold:\n",
    "            warn(wmsg.format(\"Voc\", threshold * 100, voc, xvoc))\n",
    "        if numpy.abs(1 - ximp/imp) > threshold:\n",
    "            warn(wmsg.format(\"Imp\", threshold * 100, imp, ximp))\n",
    "        if numpy.abs(1 - xvmp/vmp) > threshold:\n",
    "            warn(wmsg.format(\"Vmp\", threshold * 100, vmp, xvmp))\n",
    "\n",
    "        return xisc, xvoc, ximp, xvmp\n",
    "\n",
    "    def curve(self, t, g):\n",
    "        pass"
   ]
  },
  {
   "cell_type": "code",
   "execution_count": 60,
   "id": "14c1163c-e4c5-4b46-9947-1dcdebec72c1",
   "metadata": {},
   "outputs": [],
   "source": [
    "# Azur Space 3G30A triple-junction solar cells in a 24s12p configuration.\n",
    "# Isc/Imp are specified in (A, A/C), Voc/Vmp are specified in (V, V/C).\n",
    "# Temperature is specified in C. Intensity is unitless and scales Isc/Imp.\n",
    "array = array(\n",
    "    isc=(0.5196, 0.00036),  # short-circuit current, temp coefficient\n",
    "    voc=(2.690, -0.0062),   # open-circuit voltage, temp coefficient\n",
    "    imp=(0.5029, 0.00024),  # max-power current, temp coefficient\n",
    "    vmp=(2.409, -0.0067),   # max-power voltage, temp coefficient\n",
    "    t=28,   # temperature at which the above parameters are specified\n",
    "    ns=24,  # number of series cells in a string\n",
    "    np=12,  # number of parallel strings in an array\n",
    ")"
   ]
  },
  {
   "cell_type": "code",
   "execution_count": 61,
   "id": "9d19a767-3763-4f23-a468-63f353672e69",
   "metadata": {},
   "outputs": [
    {
     "data": {
      "text/plain": [
       "(0.5383199999999999, 2.3676, 0.5153800000000001, 2.0606)"
      ]
     },
     "execution_count": 61,
     "metadata": {},
     "output_type": "execute_result"
    }
   ],
   "source": [
    "array.params(t=80, g=1)"
   ]
  },
  {
   "cell_type": "code",
   "execution_count": 73,
   "id": "b186d4a0-e90c-40f9-92be-0d0b83f45820",
   "metadata": {},
   "outputs": [
    {
     "name": "stderr",
     "output_type": "stream",
     "text": [
      "C:\\Users\\Mark\\AppData\\Local\\Temp\\ipykernel_11792\\4047024964.py:89: UserWarning: Curve fit Imp error exceeds 2%. target=0.139 solution=0.134\n",
      "  warn(wmsg.format(\"Imp\", threshold * 100, imp, ximp))\n"
     ]
    },
    {
     "data": {
      "text/plain": [
       "(0.137736, 3.789286646865921, 0.13448804012893717, 3.473764307272473)"
      ]
     },
     "execution_count": 73,
     "metadata": {},
     "output_type": "execute_result"
    }
   ],
   "source": [
    "array.cell(t=-140, g=0.3)"
   ]
  },
  {
   "cell_type": "code",
   "execution_count": 4,
   "id": "d783243a-4013-4bbf-af95-17fe72bc780c",
   "metadata": {},
   "outputs": [],
   "source": [
    "curve = array.curve(t=80, g=1)"
   ]
  },
  {
   "cell_type": "code",
   "execution_count": null,
   "id": "604a988c-95ac-4056-a1bf-b100d220396b",
   "metadata": {},
   "outputs": [],
   "source": []
  }
 ],
 "metadata": {
  "kernelspec": {
   "display_name": "Python 3 (ipykernel)",
   "language": "python",
   "name": "python3"
  },
  "language_info": {
   "codemirror_mode": {
    "name": "ipython",
    "version": 3
   },
   "file_extension": ".py",
   "mimetype": "text/x-python",
   "name": "python",
   "nbconvert_exporter": "python",
   "pygments_lexer": "ipython3",
   "version": "3.11.6"
  }
 },
 "nbformat": 4,
 "nbformat_minor": 5
}
