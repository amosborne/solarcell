{
 "cells": [
  {
   "cell_type": "code",
   "execution_count": 1,
   "id": "116aca14-b3b7-4d33-8f32-3207c2f8e9ae",
   "metadata": {},
   "outputs": [
    {
     "data": {
      "text/html": [
       "\n",
       "                <script type=\"application/javascript\" id=\"jupyter_black\">\n",
       "                (function() {\n",
       "                    if (window.IPython === undefined) {\n",
       "                        return\n",
       "                    }\n",
       "                    var msg = \"WARNING: it looks like you might have loaded \" +\n",
       "                        \"jupyter_black in a non-lab notebook with \" +\n",
       "                        \"`is_lab=True`. Please double check, and if \" +\n",
       "                        \"loading with `%load_ext` please review the README!\"\n",
       "                    console.log(msg)\n",
       "                    alert(msg)\n",
       "                })()\n",
       "                </script>\n",
       "                "
      ],
      "text/plain": [
       "<IPython.core.display.HTML object>"
      ]
     },
     "metadata": {},
     "output_type": "display_data"
    }
   ],
   "source": [
    "import jupyter_black\n",
    "\n",
    "jupyter_black.load()"
   ]
  },
  {
   "cell_type": "code",
   "execution_count": 2,
   "id": "4b67d605-ae3a-41f5-bb20-b826f0b9beae",
   "metadata": {},
   "outputs": [],
   "source": [
    "from warnings import warn\n",
    "from collections import namedtuple\n",
    "\n",
    "import numpy\n",
    "from scipy import constants\n",
    "from scipy.optimize import least_squares, minimize, root_scalar\n",
    "from matplotlib import pyplot as plt"
   ]
  },
  {
   "cell_type": "code",
   "execution_count": 3,
   "id": "b5e821d8-b12a-4215-8046-b61c10adcdc7",
   "metadata": {},
   "outputs": [],
   "source": [
    "def _warn_solution(name, target, result, threshold=0.02):\n",
    "    err = numpy.abs((result - target) / target)\n",
    "    if err > threshold:\n",
    "        wmsg1 = \"{:s} fit error of {:0.1f}% exceeds {:0.1f}% threshold.\"\n",
    "        wmsg1 = wmsg1.format(name, err * 100, threshold * 100)\n",
    "        wmsg2 = \"Target={:0.3f}, Result={:0.3f}, Delta={:0.3f}\"\n",
    "        wmsg2 = wmsg2.format(target, result, result - target)\n",
    "        msg = \" \".join([wmsg1, wmsg2])\n",
    "        warn(msg)"
   ]
  },
  {
   "cell_type": "code",
   "execution_count": 4,
   "id": "91d56bba-6bd1-40a5-9a73-88b6887fab14",
   "metadata": {},
   "outputs": [],
   "source": [
    "_metrics = namedtuple(\"metrics\", \"isc voc imp vmp pmp vi iv pv\")"
   ]
  },
  {
   "cell_type": "code",
   "execution_count": 130,
   "id": "873d4c05-46d2-4187-8261-a3dcf8429d71",
   "metadata": {},
   "outputs": [],
   "source": [
    "class array:\n",
    "    def __init__(self, isc, voc, imp, vmp, t, ns, np):\n",
    "        assert isc[0] > imp[0] and isc[1] > imp[1], \"Isc must exceed Imp.\"\n",
    "        assert voc[0] > vmp[0] and voc[1] > vmp[1], \"Voc must exceed Vmp.\"\n",
    "        assert t > -273.15, \"Temperature must exceed absolute zero.\"\n",
    "        assert ns > 0, \"There must be atleast one cell per string.\"\n",
    "        assert np > 0, \"There must be atleast one string per array.\"\n",
    "\n",
    "        self.isc = isc\n",
    "        self.voc = voc\n",
    "        self.imp = imp\n",
    "        self.vmp = vmp\n",
    "        self.t = t\n",
    "        self.ns = numpy.ceil(ns)\n",
    "        self.np = numpy.ceil(np)\n",
    "\n",
    "    def params(self, t, g):\n",
    "        assert t > -273.15, \"Temperature must exceed absolute zero.\"\n",
    "        assert g >= 0, \"Intensity must be non-negative.\"\n",
    "\n",
    "        # Compute the adjusted cell parameters.\n",
    "        dt = t - self.t\n",
    "        isc = (self.isc[0] + dt * self.isc[1]) * g\n",
    "        voc = self.voc[0] + dt * self.voc[1]\n",
    "        imp = (self.imp[0] + dt * self.imp[1]) * g\n",
    "        vmp = self.vmp[0] + dt * self.vmp[1]\n",
    "\n",
    "        return isc, voc, imp, vmp\n",
    "\n",
    "    def cell(self, t, g):\n",
    "        isc, voc, imp, vmp = self.params(t, g)\n",
    "        pmp = imp * vmp\n",
    "\n",
    "        if g == 0:\n",
    "            xvi = lambda i: 0\n",
    "            xiv = lambda v: numpy.inf if v < 0 else 0\n",
    "            xpv = lambda v: v * xiv(v)\n",
    "            return _metrics(isc, voc, imp, vmp, pmp, xvi, xiv, xpv)\n",
    "\n",
    "        q_kT = constants.e / (constants.k * (t + 273.15))\n",
    "\n",
    "        def x2eqn(x):\n",
    "            # Diode model is a logarithmic function, V=F(I).\n",
    "            i0, rs, n = x  # Parameters to be solved for numerically.\n",
    "            i0 = i0 * 1e-20  # Scale factor to assist solver.\n",
    "            q_nkT = q_kT / n\n",
    "\n",
    "            def v(i):\n",
    "                with numpy.errstate(invalid=\"ignore\"):\n",
    "                    vraw = numpy.log((isc - i) / i0 + 1) / q_nkT - i * rs\n",
    "                    vraw = numpy.nan_to_num(vraw)  # Bypass diode.\n",
    "                    vraw = numpy.where(i < 0, numpy.nan, vraw)  # Blocking diode.\n",
    "                    return vraw\n",
    "\n",
    "            return v\n",
    "\n",
    "        def x2params(x):\n",
    "            # Numerically invert the diode model to solve for Isc/Imp.\n",
    "            v = x2eqn(x)\n",
    "            risc = root_scalar(f=v, x0=isc, bracket=(isc * 0.98, isc))\n",
    "            rimp = minimize(\n",
    "                fun=lambda ximp: 1 / (ximp * v(ximp)),\n",
    "                x0=isc / 2,\n",
    "                bounds=[(0, isc * 0.99)],\n",
    "            )\n",
    "            assert risc.converged and rimp.success\n",
    "\n",
    "            # Return the cell parameters: (xisc, xvoc, ximp, xvmp).\n",
    "            return risc.root, v(0), rimp.x[0], v(rimp.x[0])\n",
    "\n",
    "        def minfun(x):\n",
    "            # The IV-curve is optimized againt Voc, Vmp, and Pmp.\n",
    "            _, xvoc, ximp, xvmp = x2params(x)\n",
    "            return voc - xvoc, vmp - xvmp, pmp - (ximp * xvmp)\n",
    "\n",
    "        result = least_squares(\n",
    "            fun=minfun,\n",
    "            x0=(1, 0.1, 2.5),\n",
    "            bounds=((1e-3, 0, 0.1), (1e3, 1, 10)),\n",
    "            xtol=None,\n",
    "        )\n",
    "        emsg = \"Curve fit failed for cell(t={:0.1f}, g={:0.2f}).\"\n",
    "        assert result.success and result.cost < 0.01, emsg.format(t, g)\n",
    "\n",
    "        # Warn if the solution is a poor fit.\n",
    "        xisc, xvoc, ximp, xvmp = x2params(result.x)\n",
    "        _warn_solution(\"Isc\", isc, xisc)\n",
    "        _warn_solution(\"Voc\", voc, xvoc)\n",
    "        _warn_solution(\"Imp\", imp, ximp)\n",
    "        _warn_solution(\"Vmp\", vmp, xvmp)\n",
    "\n",
    "        # Interpolate over voltage.\n",
    "        xvi = lambda i: x2eqn(result.x)(i)\n",
    "        i = numpy.linspace(0, xisc, 1000)\n",
    "        xv = numpy.linspace(0, xvoc, 1000)\n",
    "        xi = numpy.interp(xv, xvi(i)[::-1], i[::-1])\n",
    "        xiv = lambda v: numpy.interp(v, xv, xi, left=numpy.inf, right=0)\n",
    "        xpv = lambda v: v * xiv(v)\n",
    "\n",
    "        return _metrics(xisc, xvoc, ximp, xvmp, ximp * xvmp, xvi, xiv, xpv)\n",
    "\n",
    "    def curve(self, t, g):\n",
    "        pass"
   ]
  },
  {
   "cell_type": "code",
   "execution_count": 131,
   "id": "14c1163c-e4c5-4b46-9947-1dcdebec72c1",
   "metadata": {},
   "outputs": [],
   "source": [
    "# Azur Space 3G30A triple-junction solar cells in a 24s12p configuration.\n",
    "# Isc/Imp are specified in (A, A/C), Voc/Vmp are specified in (V, V/C).\n",
    "# Temperature is specified in C. Intensity is unitless and scales Isc/Imp.\n",
    "array = array(\n",
    "    isc=(0.5196, 0.00036),  # short-circuit current, temp coefficient\n",
    "    voc=(2.690, -0.0062),  # open-circuit voltage, temp coefficient\n",
    "    imp=(0.5029, 0.00024),  # max-power current, temp coefficient\n",
    "    vmp=(2.409, -0.0067),  # max-power voltage, temp coefficient\n",
    "    t=28,  # temperature at which the above parameters are specified\n",
    "    ns=24,  # number of series cells in a string\n",
    "    np=12,  # number of parallel strings in an array\n",
    ")"
   ]
  },
  {
   "cell_type": "code",
   "execution_count": 132,
   "id": "9d19a767-3763-4f23-a468-63f353672e69",
   "metadata": {},
   "outputs": [
    {
     "data": {
      "text/plain": [
       "(0.5383199999999999, 2.3676, 0.5153800000000001, 2.0606)"
      ]
     },
     "execution_count": 132,
     "metadata": {},
     "output_type": "execute_result"
    }
   ],
   "source": [
    "array.params(t=80, g=1)"
   ]
  },
  {
   "cell_type": "code",
   "execution_count": 133,
   "id": "b186d4a0-e90c-40f9-92be-0d0b83f45820",
   "metadata": {},
   "outputs": [
    {
     "data": {
      "text/plain": [
       "array(0.)"
      ]
     },
     "execution_count": 133,
     "metadata": {},
     "output_type": "execute_result"
    }
   ],
   "source": [
    "cell = array.cell(t=60, g=1)\n",
    "cell.vi(6)"
   ]
  },
  {
   "cell_type": "code",
   "execution_count": 134,
   "id": "cac8fcc6-4769-4f5a-ac88-de324727fd6c",
   "metadata": {},
   "outputs": [
    {
     "data": {
      "image/png": "[encoded data removed]",
      "text/plain": [
       "<Figure size 640x480 with 1 Axes>"
      ]
     },
     "metadata": {},
     "output_type": "display_data"
    }
   ],
   "source": [
    "for t in [-60, 28, 80]:\n",
    "    cell = array.cell(t=t, g=1)\n",
    "    v = numpy.linspace(0, cell.voc, 1000)\n",
    "    plt.plot(v, cell.iv(v))"
   ]
  },
  {
   "cell_type": "code",
   "execution_count": 4,
   "id": "d783243a-4013-4bbf-af95-17fe72bc780c",
   "metadata": {},
   "outputs": [],
   "source": [
    "curve = array.curve(t=80, g=1)"
   ]
  },
  {
   "cell_type": "code",
   "execution_count": null,
   "id": "604a988c-95ac-4056-a1bf-b100d220396b",
   "metadata": {},
   "outputs": [],
   "source": []
  }
 ],
 "metadata": {
  "kernelspec": {
   "display_name": "Python 3 (ipykernel)",
   "language": "python",
   "name": "python3"
  },
  "language_info": {
   "codemirror_mode": {
    "name": "ipython",
    "version": 3
   },
   "file_extension": ".py",
   "mimetype": "text/x-python",
   "name": "python",
   "nbconvert_exporter": "python",
   "pygments_lexer": "ipython3",
   "version": "3.11.6"
  }
 },
 "nbformat": 4,
 "nbformat_minor": 5
}
